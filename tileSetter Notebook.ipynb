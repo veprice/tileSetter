{
 "cells": [
  {
   "cell_type": "code",
   "execution_count": 1,
   "id": "5197791c",
   "metadata": {},
   "outputs": [
    {
     "name": "stdout",
     "output_type": "stream",
     "text": [
      "Updating stuck name prefixes ...\n",
      "A markers tagged: 7\n",
      "B markers tagged: 6\n",
      "C markers tagged: 7\n",
      "D markers tagged: 3\n",
      "F markers tagged: 4\n",
      "G markers tagged: 2\n",
      "J markers tagged: 1\n",
      "K markers tagged: 5\n",
      "L markers tagged: 7\n",
      "M markers tagged: 7\n",
      "N markers tagged: 2\n",
      "P markers tagged: 6\n",
      "R markers tagged: 4\n",
      "S markers tagged: 14\n",
      "T markers tagged: 6\n",
      "Active prefixes updated!\n",
      "\n",
      "Names Updated!\n",
      "Generator\n",
      "------------------\n",
      "  pieces Lmin Lmax             regex\n",
      "0   bit*    3    4  [a-z][a-z][a-z].\n",
      "1   bit*    3    4  [a-z][a-z][a-z].\n",
      "------------------\n",
      "\n",
      "Name Stats\n",
      "Stuck? True\n",
      "--------------\n",
      "           NUM\n",
      "6 Letters  100\n",
      "7 Letters  100\n",
      "8 Letters  100\n",
      "           ---\n",
      "All Names  300\n",
      "--------------\n",
      "Last Update @ 08:15:27 PM\n",
      "HTML Updated!\n",
      "\n",
      "Loaded name generator 'bb'.Open /HTML/tileSetter.html in your favorite browser to see the tiles!\n",
      "To generate more names, type 'refresh(bb)')\n",
      "or create new name generator using nb.nameGen().\n"
     ]
    }
   ],
   "source": [
    "from pyleSetter import *"
   ]
  },
  {
   "cell_type": "code",
   "execution_count": 14,
   "id": "91785aa1",
   "metadata": {},
   "outputs": [],
   "source": [
    "refresh(bb) # run this to refresh the default name generator"
   ]
  },
  {
   "cell_type": "code",
   "execution_count": 2,
   "id": "45a5fece",
   "metadata": {},
   "outputs": [
    {
     "data": {
      "text/plain": [
       "'CSV files exported.'"
      ]
     },
     "execution_count": 2,
     "metadata": {},
     "output_type": "execute_result"
    }
   ],
   "source": [
    "nb.export_pres(nb.w_s) # run this cell to export prefixes"
   ]
  },
  {
   "cell_type": "code",
   "execution_count": 6,
   "id": "1884128d",
   "metadata": {},
   "outputs": [
    {
     "data": {
      "text/plain": [
       "'[a-c]'"
      ]
     },
     "execution_count": 6,
     "metadata": {},
     "output_type": "execute_result"
    }
   ],
   "source": []
  },
  {
   "cell_type": "code",
   "execution_count": null,
   "id": "4c42fab4",
   "metadata": {},
   "outputs": [],
   "source": []
  }
 ],
 "metadata": {
  "kernelspec": {
   "display_name": "Python 3",
   "language": "python",
   "name": "python3"
  },
  "language_info": {
   "codemirror_mode": {
    "name": "ipython",
    "version": 3
   },
   "file_extension": ".py",
   "mimetype": "text/x-python",
   "name": "python",
   "nbconvert_exporter": "python",
   "pygments_lexer": "ipython3",
   "version": "3.8.8"
  }
 },
 "nbformat": 4,
 "nbformat_minor": 5
}
