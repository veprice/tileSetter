{
 "cells": [
  {
   "cell_type": "code",
   "execution_count": null,
   "id": "a9d704d7",
   "metadata": {},
   "outputs": [
    {
     "name": "stdout",
     "output_type": "stream",
     "text": [
      "Updating stuck name prefixes ...\n",
      "A markers tagged: 7\n",
      "B markers tagged: 6\n",
      "C markers tagged: 7\n",
      "D markers tagged: 3\n",
      "F markers tagged: 4\n",
      "G markers tagged: 2\n",
      "J markers tagged: 1\n",
      "K markers tagged: 5\n"
     ]
    }
   ],
   "source": [
    "from pyleSetter import *"
   ]
  },
  {
   "cell_type": "code",
   "execution_count": 14,
   "id": "509b6005",
   "metadata": {},
   "outputs": [],
   "source": [
    "refresh(bb) # run this to refresh the default name generator"
   ]
  },
  {
   "cell_type": "code",
   "execution_count": 13,
   "id": "c1b792de",
   "metadata": {},
   "outputs": [],
   "source": [
    "nb.export_pres(nb.w_s) # run this cell to export prefixes"
   ]
  },
  {
   "cell_type": "code",
   "execution_count": 6,
   "id": "16f86fb3",
   "metadata": {},
   "outputs": [
    {
     "data": {
      "text/plain": [
       "'[a-c]'"
      ]
     },
     "execution_count": 6,
     "metadata": {},
     "output_type": "execute_result"
    }
   ],
   "source": []
  },
  {
   "cell_type": "code",
   "execution_count": null,
   "id": "6f4a37d9",
   "metadata": {},
   "outputs": [],
   "source": []
  }
 ],
 "metadata": {
  "kernelspec": {
   "display_name": "Python 3",
   "language": "python",
   "name": "python3"
  },
  "language_info": {
   "codemirror_mode": {
    "name": "ipython",
    "version": 3
   },
   "file_extension": ".py",
   "mimetype": "text/x-python",
   "name": "python",
   "nbconvert_exporter": "python",
   "pygments_lexer": "ipython3",
   "version": "3.8.8"
  }
 },
 "nbformat": 4,
 "nbformat_minor": 5
}
